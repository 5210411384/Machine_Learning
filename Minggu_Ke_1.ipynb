{
  "nbformat": 4,
  "nbformat_minor": 0,
  "metadata": {
    "colab": {
      "provenance": [],
      "toc_visible": true,
      "mount_file_id": "1gN_1g40OfdEvD43QkAqMKO2TIj_6weCU",
      "authorship_tag": "ABX9TyObkMrCJXhp8cGfrtNqzKy4",
      "include_colab_link": true
    },
    "kernelspec": {
      "name": "python3",
      "display_name": "Python 3"
    },
    "language_info": {
      "name": "python"
    }
  },
  "cells": [
    {
      "cell_type": "markdown",
      "metadata": {
        "id": "view-in-github",
        "colab_type": "text"
      },
      "source": [
        "<a href=\"https://colab.research.google.com/github/5210411384/Machine_Learning/blob/main/Minggu_Ke_1.ipynb\" target=\"_parent\"><img src=\"https://colab.research.google.com/assets/colab-badge.svg\" alt=\"Open In Colab\"/></a>"
      ]
    },
    {
      "cell_type": "markdown",
      "source": [
        "# PR MINGGU KE-1\n",
        "\n",
        "1.1 Apa Itu Kecerdasan Buatan, dan Machine Learning? **Machine Learning** adalah Sebuah pengembangan algoritma komputer untuk meningkatkan kinerja program komputer secara otomatis melalui data sebelumnya. Sedangkan **Kecerdasan Buatan** atau sering disebut **AI (Artificial Intelligence)** yang merupakan sebuah bidang didalam ilmu komputer guna untuk menciptakan mesin cerdas yang dapat bekerja seperti manusia.\n",
        "\n",
        "1.2 Jenis Data? \n",
        "\n",
        ">**a. Data Terstruktur?** Merupakan jenis data yang formatnya, angka, dan tata letak nya berada dalam bidang/tempat yang tetap didalam satu file/rekaman.\n",
        "> \n",
        ">**b. Data Tidak Terstruktur?** Merupakan sebuah data yang memiliki informasi yang kurang sesuai atau kurang lengkap dengan kriteria yang dibutuhkan, maka kita perlu melakukan proses lanjutan agar mudah dibaca dan diolah.\n",
        "\n",
        "1.3 Jenis Pembelajaran?\n",
        "\n",
        "> **a. Supervised Learning?** Adalah sebuah pendekatan yang dilakukan komputer dalam mengenali pola data dari label khusus yang diberikan sebelumnya.\n",
        ">\n",
        ">**b. Unsupervised Learning?** Adalah sebuah pendekatan yang dilakukan komputer dalam mengenali data secara real-time begitu data disajikan.\n",
        "\n",
        "1.4 Data Hilang (Missing Data) Merupakan suatu kondisi dimana data tidak ada atau data hilang. Data hilang pada Statistik atau Missing value yaitu data atau informasi yang “hilang” atau tidak tersedia mengenai subjek penelitian pada variabel tertentu akibat faktor non sampling error.\n",
        "\n",
        "* **Interviewer recording error** terjadi akibat kealpaan petugas pengumpul data (pewawancara), misalnya ada sejumlah pertanyaan yang terlewatkan.\n",
        "* **Respondent inability error** terjadi akibat ketidakmampuan responden dalam memberikan jawaban akurat, misalnya karena tidak memahami pertanyaan\n",
        "* **Unwillingness respondent error** tejadi karena responden tidak berkenan memberikan jawaban yang akurat, misalnya pertanyaan soal penghasilan, usia, berat badan, pengalaman melakukan pelanggaran hukum, dll.\n",
        "\n",
        "Menurut Rubin(1976) tipe data hilang terbagi kedalam tiga tipe, yaitu :\n",
        "* **Missing at Random (MAR)** jika mekanisme data hilang terdistribusi secara acak untuk sebagian unit observasi. Kata lain, Missing at Random (MAR), berarti terjadinya missing data hanya berkaitan dengan variabel respon/pengamatan. Contohnya seseorang yang memiliki rasa waswas yang tinggi cenderung tidak akan melaporkan pendapatan mereka.\n",
        "* **Missing completely at random (MCAR)** jika mekanisme data hilang yang terdistribusi secara acak untuk seluruh unit observasi. Kata lain yaitu Missing Completely at Random (MCAR)  berarti terjadinya missing data tidak berkaitan dengan nilai semua variabel, hal ini berarti missing data terjadi secara acak.\n",
        "* **Missing Not at Random (MNAR)** mekanisme data hilang yang tidak terdistribusi secara random. Yang berarti terjadinya missing data pada suatu variabel berkaitan dengan variabel itu sendiri, sehingga ini tidak bisa diprediksi dari variabel lain pada suatu dataset.\n",
        "\n",
        "Metode Penanganan Missing Data :\n",
        "1. Mengabaikan dan membuang missing data.\n",
        "2. Estimasi parameter.\n",
        "3. Imputasi (solusi untuk mengganti suatu missing value dengan suatu nilai pengganti)\n",
        "\n",
        "Menurut Little & Rubin (1987), penanganan data hilang dapat dilakukan berdasarkan prosedur : amatan lengkap, imputasi, pembobotan dan model.\n",
        "1. **Prosedur berbasis unit** yang lengkap yang berarti Pada prosedur ini analisis hanya dilakukan terhadap unit/kasus dimana untuk seluruh variabel nilainya tercatat atau memiliki data yang lengkap. Sedangkan sebanyak n2 cases yang terdapat missing data pada variabel-variabelnya diabaikan, atau dikeluarkan dari analisis.\n",
        "2. **Prosedur berbasis Imputasi** yang berarti Imputasi merupakan suatu alternatif yang umum dan fleksibel. Dalam prosedur ini, missing value diisi baik dengan menduga langsung atau menggunakan penduga berbasis korelasi. Terdapat beberapa macam pendekatan untuk imputasi ini, antara lain:\n",
        "\n",
        ">* **Hot deck imputation**, dimana dari unit-unit yang tercatat disubstitusikan terhadap missing data.\n",
        "* **Cold deck imputation**, dimana missing value diganti oleh suatu nilai yang konstan.\n",
        "* **Mean imputation**, yaitu dimana nilai yang hilang diganti oleh rata-rata (mean) dari kelompok sampel unit terkait.\n",
        "* **Regression (correlation) imputation**, yaitu dimana missing value dari suatu variabel diestimasi menggunakan nilai penduga dari regresi atau korelasi variabel tersebut pada variabel lainnya yang diketahui.\n",
        "\n",
        "4. **Prosedur Weighting (Pembobotan)** merupakan prosedur estimasi biasanya didasarkan pada design weight, yaitu proporsional secara terbalik terhadap peluang pemilihan sampelnya.\n",
        "5. **Prosedur Berbasis Model** yaitu Suatu prosedur yang dibentuk dengan menentukan suatu model sebagian data yang hilang (missing data) tersebut dan selanjutnya melakukan inferensi berbasis pada likelihood dibawah model tersebut. Parameter diestimasi dengan suatu prosedur iteratif maximum likelihood dimulai dengan unit atau cases yang lengkap.\n",
        "\n",
        "1.5 Apa itu Library Pandas dan Library Numpy? **Pandas** Merupakan library pada pemrograman python yang biasanya digunakan untuk memanipulasi data atau untuk menganalisis sebuah data. Sedangkan **Numpy** merupakan library python yang biasanya digunakan untuk scientific computing atau untuk memecahkan masalah dari data input dengan menggunakan suatu algoritma. Misalnya untuk perhitungan matriks, aljabar, statistika."
      ],
      "metadata": {
        "id": "UhZBpr7M-Zzw"
      }
    },
    {
      "cell_type": "markdown",
      "source": [
        "# PR TAMBAHAN\n",
        "\n",
        "1. Membuat catatan menggunakan google colab! (kemarin sudah disampaikan di kelas)\n",
        "2. Membuat catatan tentang menggunakan github plus membuat akunnya! (kemarin sudah disampaikan di kelas)\n",
        "3. Apa pengertian Machine Learning? \n",
        ">**Machine Learning** adalah sebuah ilmu pengembangan algoritma komputer untuk meningkatkan kinerja program komputer secara otomatis melalui data sebelumnya.\n",
        "4. Pengertian data struktur dan tidak terstruktur beserta contohnya? \n",
        ">**Data Terstruktur** merupakan jenis data yang formatnya, angka, dan tata letak nya berada dalam bidang/tempat yang tetap didalam satu file/rekaman. Contohnya seperti Data pada tabel Microsoft Excel yaitu ada data perusahaan, data gaji, data penjualan. \n",
        "> \n",
        ">**Data Tidak Terstruktur** merupakan sebuah data yang memiliki informasi yang kurang sesuai atau kurang lengkap dengan kriteria yang dibutuhkan, maka kita perlu melakukan proses lanjutan agar mudah dibaca dan diolah. Contohnya seperti format foto atau gambar dengan format jpg, ataupun seperti audio/suara format mp3.\n",
        "5. Sebutkan Perbredaan Supervised Learning dan Unsupervised Learning, beserta algoritma dari masing-masing tersebut!\n",
        ">**Perbedaan** dari supervised learning dan unsupervised learning yaitu Algoritma supervised learning membutuhkan data label atau kelas, sedangkan pada algoritma unsupervised learning tidak membutuhkan data label.\n",
        ">\n",
        ">**Algoritma Supervised Learning** yaitu:\n",
        ">* K-nearest neighbor atau algoritma KNN. Metode ini menggunakan algoritma non-parametrik yang mengelompokkan poin data berdasarkan kedekatan dan juga asosiasi mereka dengan data lain yang tersedia.\n",
        ">* Naïve Bayes. Metode ini mengadopsi prinsip kemandirian kelas bersyarat dari Teorema Bayes. Dalam prinsip tersebut, ada tidaknya satu elemen tidak akan memengaruhi komponen lain dalam probabilitas hasil yang akan diberikan. Pun begitu dengan predictor yang mendapatkan efek yang sama.\n",
        ">* Support vector machine merupakan metode algoritma supervised learning yang dikembangkan oleh Vladimir Vapnik. Metode ini biasanya digunakan dalam data classification dan juga regression. Metode support vector machine sering dimanfaatkan dalam masalah klasifikasi serta pembangunan hyperplane atau batas keputusan yang memisahkan kelas-kelas titik data.\n",
        ">\n",
        ">**Algoritma Unsupervised Learning** Yaitu :\n",
        ">* K-means clustering merupakan salah satu algoritma machine learning yang sederhana dan populer digunakan untuk memecahkan masalah pengelompokan data.\n",
        ">* Fuzzy c-means merupakan salah satu jenis soft clustering di mana dalam mengelompokan suatu data, setiap data bisa dimiliki lebih dari satu cluster.\n",
        "\n",
        "6. Apa yang dimaksud Data Cleaning, Exploratory Data Analysis, Data Visualization, Feature Engineering, dan Evaluation Metrics?\n",
        ">**Data Cleaning** Adalah Data suatu prosedur untuk memastikan kebenaran, konsistensi, dan kegunaan suatu data yang ada dalam dataset.\n",
        "> \n",
        ">**Exploratory Data Analysis** Adalah metode eksplorasi data dengan menggunakan teknik aritmatika sederhana dan teknik grafis dalam meringkas data pengamatan dan Eksplorasi data juga merupakan bagian yang integral dari persepsi kita. \n",
        ">\n",
        ">**Data Visualization** Adalah rangkaian proses yang akan dilakukan setiap data analis untuk menampilkan data atau informasi dalam bentuk yang agar mudah dipahami oleh orang awam, seperti grafik, angka. \n",
        ">\n",
        ">**Feature Engineering** Adalah salah satu fitur utama dari deep learning untuk mengekstrak pola yang berguna dari data yang akan memudahkan model untuk membedakan kelas dan juga merupakan teknik yang paling penting untuk mencapai hasil yang baik pada tugas prediksi. \n",
        ">\n",
        ">**Evaluation Metrics** Adalah sebuah nilai yang dapat digunakan untuk merepresentasikan performa model yang dihasilkan atau untuk mengukur seberapa baik model yang sudah kita buat.\n",
        "7. https://www.kaggle.com/datasets/khaiid/android-phones\n",
        "8. https://www.kaggle.com/datasets/razamh/unsupervised-ml"
      ],
      "metadata": {
        "id": "BhftshMP-kXn"
      }
    }
  ]
}