{
  "nbformat": 4,
  "nbformat_minor": 0,
  "metadata": {
    "colab": {
      "provenance": [],
      "mount_file_id": "186JdC-Wg3uL6M4QW4mx9qVfxfn5W_SzA",
      "authorship_tag": "ABX9TyOJWo5o2rJ+X1Rk3E6zUZWn",
      "include_colab_link": true
    },
    "kernelspec": {
      "name": "python3",
      "display_name": "Python 3"
    },
    "language_info": {
      "name": "python"
    }
  },
  "cells": [
    {
      "cell_type": "markdown",
      "metadata": {
        "id": "view-in-github",
        "colab_type": "text"
      },
      "source": [
        "<a href=\"https://colab.research.google.com/github/5210411384/Machine_Learning/blob/main/BAB_IV_Minggu_Ke_3.ipynb\" target=\"_parent\"><img src=\"https://colab.research.google.com/assets/colab-badge.svg\" alt=\"Open In Colab\"/></a>"
      ]
    },
    {
      "cell_type": "markdown",
      "source": [
        "**BAB 4 EXPLORASI DAN VISUALISASI**\n",
        "\n",
        "**LATIHAN 4.4**"
      ],
      "metadata": {
        "id": "GsDwfLutVUU3"
      }
    },
    {
      "cell_type": "code",
      "source": [
        "from google.colab import drive\n",
        "drive.mount('/content/drive')"
      ],
      "metadata": {
        "id": "5tIcq5U6EZ7K",
        "colab": {
          "base_uri": "https://localhost:8080/"
        },
        "outputId": "03ba6482-97c7-4cc0-e3e9-0227aaa016e9"
      },
      "execution_count": 1,
      "outputs": [
        {
          "output_type": "stream",
          "name": "stdout",
          "text": [
            "Drive already mounted at /content/drive; to attempt to forcibly remount, call drive.mount(\"/content/drive\", force_remount=True).\n"
          ]
        }
      ]
    },
    {
      "cell_type": "markdown",
      "source": [
        "1. Diketahui dataset Apartemen_OKE.csv dan tampilan informasinya"
      ],
      "metadata": {
        "id": "h4k6CyYcVlGE"
      }
    },
    {
      "cell_type": "code",
      "execution_count": 2,
      "metadata": {
        "id": "x_7e73yu-XcC"
      },
      "outputs": [],
      "source": [
        "import pandas as pd\n",
        "import numpy as np"
      ]
    },
    {
      "cell_type": "code",
      "source": [
        "uri = '/content/drive/MyDrive/Machine Learning/Apartemen_OKE.csv'\n",
        "df = pd.read_csv(uri)\n",
        "print(df)"
      ],
      "metadata": {
        "colab": {
          "base_uri": "https://localhost:8080/"
        },
        "id": "cTecR21TBAiB",
        "outputId": "0e25ef33-2fa9-434c-cfcd-20ec812a2506"
      },
      "execution_count": 3,
      "outputs": [
        {
          "output_type": "stream",
          "name": "stdout",
          "text": [
            "   KodeApt  Wilayah  St_Milik  Jum_Kamar\n",
            "0    104.0        0         1        3.0\n",
            "1    197.0        2         0        3.0\n",
            "2   8837.0        2         0        3.0\n",
            "3    201.0        3         0        1.0\n",
            "4    203.0        3         1        3.0\n",
            "5    207.0        3         1        3.0\n",
            "6    837.0        1         1        2.0\n",
            "7    213.0        0         1        3.0\n",
            "8    215.0        0         1        3.0\n"
          ]
        }
      ]
    },
    {
      "cell_type": "markdown",
      "source": [
        "2. Tampilkan Dataset"
      ],
      "metadata": {
        "id": "LWfH0YCmVtNE"
      }
    },
    {
      "cell_type": "code",
      "source": [
        "uri = '/content/drive/MyDrive/Machine Learning/Apartemen_OKE.csv'\n",
        "df = pd.read_csv(uri)\n",
        "print(df)\n",
        "df.info()"
      ],
      "metadata": {
        "colab": {
          "base_uri": "https://localhost:8080/"
        },
        "id": "lRMxuxYGFRlt",
        "outputId": "cf502fbe-c399-4e74-a801-c3ececb27711"
      },
      "execution_count": null,
      "outputs": [
        {
          "output_type": "stream",
          "name": "stdout",
          "text": [
            "   KodeApt  Wilayah  St_Milik  Jum_Kamar\n",
            "0    104.0        0         1        3.0\n",
            "1    197.0        2         0        3.0\n",
            "2   8837.0        2         0        3.0\n",
            "3    201.0        3         0        1.0\n",
            "4    203.0        3         1        3.0\n",
            "5    207.0        3         1        3.0\n",
            "6    837.0        1         1        2.0\n",
            "7    213.0        0         1        3.0\n",
            "8    215.0        0         1        3.0\n",
            "<class 'pandas.core.frame.DataFrame'>\n",
            "Int64Index: 9 entries, 0 to 8\n",
            "Data columns (total 4 columns):\n",
            " #   Column     Non-Null Count  Dtype  \n",
            "---  ------     --------------  -----  \n",
            " 0   KodeApt    9 non-null      float64\n",
            " 1   Wilayah    9 non-null      int64  \n",
            " 2   St_Milik   9 non-null      int64  \n",
            " 3   Jum_Kamar  9 non-null      float64\n",
            "dtypes: float64(2), int64(2)\n",
            "memory usage: 360.0 bytes\n"
          ]
        }
      ]
    },
    {
      "cell_type": "markdown",
      "source": [
        "3. Berikan tambahan kolom dengan nama kolom label"
      ],
      "metadata": {
        "id": "QGj8ZZltVwnV"
      }
    },
    {
      "cell_type": "code",
      "source": [
        "label_kelas = ['Murah','Murah','Mahal','Murah','Mahal','Mahal','Mahal','Murah','Murah']\n",
        "df['Label'] = label_kelas\n",
        "df"
      ],
      "metadata": {
        "colab": {
          "base_uri": "https://localhost:8080/",
          "height": 331
        },
        "id": "XOORmpKOFsvM",
        "outputId": "d8b6948a-b1a6-438e-cf81-506796fd30fc"
      },
      "execution_count": null,
      "outputs": [
        {
          "output_type": "execute_result",
          "data": {
            "text/plain": [
              "   KodeApt  Wilayah  St_Milik  Jum_Kamar  Label\n",
              "0    104.0        0         1        3.0  Murah\n",
              "1    197.0        2         0        3.0  Murah\n",
              "2   8837.0        2         0        3.0  Mahal\n",
              "3    201.0        3         0        1.0  Murah\n",
              "4    203.0        3         1        3.0  Mahal\n",
              "5    207.0        3         1        3.0  Mahal\n",
              "6    837.0        1         1        2.0  Mahal\n",
              "7    213.0        0         1        3.0  Murah\n",
              "8    215.0        0         1        3.0  Murah"
            ],
            "text/html": [
              "\n",
              "  <div id=\"df-23132589-1557-46f7-a0da-968e48707e31\">\n",
              "    <div class=\"colab-df-container\">\n",
              "      <div>\n",
              "<style scoped>\n",
              "    .dataframe tbody tr th:only-of-type {\n",
              "        vertical-align: middle;\n",
              "    }\n",
              "\n",
              "    .dataframe tbody tr th {\n",
              "        vertical-align: top;\n",
              "    }\n",
              "\n",
              "    .dataframe thead th {\n",
              "        text-align: right;\n",
              "    }\n",
              "</style>\n",
              "<table border=\"1\" class=\"dataframe\">\n",
              "  <thead>\n",
              "    <tr style=\"text-align: right;\">\n",
              "      <th></th>\n",
              "      <th>KodeApt</th>\n",
              "      <th>Wilayah</th>\n",
              "      <th>St_Milik</th>\n",
              "      <th>Jum_Kamar</th>\n",
              "      <th>Label</th>\n",
              "    </tr>\n",
              "  </thead>\n",
              "  <tbody>\n",
              "    <tr>\n",
              "      <th>0</th>\n",
              "      <td>104.0</td>\n",
              "      <td>0</td>\n",
              "      <td>1</td>\n",
              "      <td>3.0</td>\n",
              "      <td>Murah</td>\n",
              "    </tr>\n",
              "    <tr>\n",
              "      <th>1</th>\n",
              "      <td>197.0</td>\n",
              "      <td>2</td>\n",
              "      <td>0</td>\n",
              "      <td>3.0</td>\n",
              "      <td>Murah</td>\n",
              "    </tr>\n",
              "    <tr>\n",
              "      <th>2</th>\n",
              "      <td>8837.0</td>\n",
              "      <td>2</td>\n",
              "      <td>0</td>\n",
              "      <td>3.0</td>\n",
              "      <td>Mahal</td>\n",
              "    </tr>\n",
              "    <tr>\n",
              "      <th>3</th>\n",
              "      <td>201.0</td>\n",
              "      <td>3</td>\n",
              "      <td>0</td>\n",
              "      <td>1.0</td>\n",
              "      <td>Murah</td>\n",
              "    </tr>\n",
              "    <tr>\n",
              "      <th>4</th>\n",
              "      <td>203.0</td>\n",
              "      <td>3</td>\n",
              "      <td>1</td>\n",
              "      <td>3.0</td>\n",
              "      <td>Mahal</td>\n",
              "    </tr>\n",
              "    <tr>\n",
              "      <th>5</th>\n",
              "      <td>207.0</td>\n",
              "      <td>3</td>\n",
              "      <td>1</td>\n",
              "      <td>3.0</td>\n",
              "      <td>Mahal</td>\n",
              "    </tr>\n",
              "    <tr>\n",
              "      <th>6</th>\n",
              "      <td>837.0</td>\n",
              "      <td>1</td>\n",
              "      <td>1</td>\n",
              "      <td>2.0</td>\n",
              "      <td>Mahal</td>\n",
              "    </tr>\n",
              "    <tr>\n",
              "      <th>7</th>\n",
              "      <td>213.0</td>\n",
              "      <td>0</td>\n",
              "      <td>1</td>\n",
              "      <td>3.0</td>\n",
              "      <td>Murah</td>\n",
              "    </tr>\n",
              "    <tr>\n",
              "      <th>8</th>\n",
              "      <td>215.0</td>\n",
              "      <td>0</td>\n",
              "      <td>1</td>\n",
              "      <td>3.0</td>\n",
              "      <td>Murah</td>\n",
              "    </tr>\n",
              "  </tbody>\n",
              "</table>\n",
              "</div>\n",
              "      <button class=\"colab-df-convert\" onclick=\"convertToInteractive('df-23132589-1557-46f7-a0da-968e48707e31')\"\n",
              "              title=\"Convert this dataframe to an interactive table.\"\n",
              "              style=\"display:none;\">\n",
              "        \n",
              "  <svg xmlns=\"http://www.w3.org/2000/svg\" height=\"24px\"viewBox=\"0 0 24 24\"\n",
              "       width=\"24px\">\n",
              "    <path d=\"M0 0h24v24H0V0z\" fill=\"none\"/>\n",
              "    <path d=\"M18.56 5.44l.94 2.06.94-2.06 2.06-.94-2.06-.94-.94-2.06-.94 2.06-2.06.94zm-11 1L8.5 8.5l.94-2.06 2.06-.94-2.06-.94L8.5 2.5l-.94 2.06-2.06.94zm10 10l.94 2.06.94-2.06 2.06-.94-2.06-.94-.94-2.06-.94 2.06-2.06.94z\"/><path d=\"M17.41 7.96l-1.37-1.37c-.4-.4-.92-.59-1.43-.59-.52 0-1.04.2-1.43.59L10.3 9.45l-7.72 7.72c-.78.78-.78 2.05 0 2.83L4 21.41c.39.39.9.59 1.41.59.51 0 1.02-.2 1.41-.59l7.78-7.78 2.81-2.81c.8-.78.8-2.07 0-2.86zM5.41 20L4 18.59l7.72-7.72 1.47 1.35L5.41 20z\"/>\n",
              "  </svg>\n",
              "      </button>\n",
              "      \n",
              "  <style>\n",
              "    .colab-df-container {\n",
              "      display:flex;\n",
              "      flex-wrap:wrap;\n",
              "      gap: 12px;\n",
              "    }\n",
              "\n",
              "    .colab-df-convert {\n",
              "      background-color: #E8F0FE;\n",
              "      border: none;\n",
              "      border-radius: 50%;\n",
              "      cursor: pointer;\n",
              "      display: none;\n",
              "      fill: #1967D2;\n",
              "      height: 32px;\n",
              "      padding: 0 0 0 0;\n",
              "      width: 32px;\n",
              "    }\n",
              "\n",
              "    .colab-df-convert:hover {\n",
              "      background-color: #E2EBFA;\n",
              "      box-shadow: 0px 1px 2px rgba(60, 64, 67, 0.3), 0px 1px 3px 1px rgba(60, 64, 67, 0.15);\n",
              "      fill: #174EA6;\n",
              "    }\n",
              "\n",
              "    [theme=dark] .colab-df-convert {\n",
              "      background-color: #3B4455;\n",
              "      fill: #D2E3FC;\n",
              "    }\n",
              "\n",
              "    [theme=dark] .colab-df-convert:hover {\n",
              "      background-color: #434B5C;\n",
              "      box-shadow: 0px 1px 3px 1px rgba(0, 0, 0, 0.15);\n",
              "      filter: drop-shadow(0px 1px 2px rgba(0, 0, 0, 0.3));\n",
              "      fill: #FFFFFF;\n",
              "    }\n",
              "  </style>\n",
              "\n",
              "      <script>\n",
              "        const buttonEl =\n",
              "          document.querySelector('#df-23132589-1557-46f7-a0da-968e48707e31 button.colab-df-convert');\n",
              "        buttonEl.style.display =\n",
              "          google.colab.kernel.accessAllowed ? 'block' : 'none';\n",
              "\n",
              "        async function convertToInteractive(key) {\n",
              "          const element = document.querySelector('#df-23132589-1557-46f7-a0da-968e48707e31');\n",
              "          const dataTable =\n",
              "            await google.colab.kernel.invokeFunction('convertToInteractive',\n",
              "                                                     [key], {});\n",
              "          if (!dataTable) return;\n",
              "\n",
              "          const docLinkHtml = 'Like what you see? Visit the ' +\n",
              "            '<a target=\"_blank\" href=https://colab.research.google.com/notebooks/data_table.ipynb>data table notebook</a>'\n",
              "            + ' to learn more about interactive tables.';\n",
              "          element.innerHTML = '';\n",
              "          dataTable['output_type'] = 'display_data';\n",
              "          await google.colab.output.renderOutput(dataTable, element);\n",
              "          const docLink = document.createElement('div');\n",
              "          docLink.innerHTML = docLinkHtml;\n",
              "          element.appendChild(docLink);\n",
              "        }\n",
              "      </script>\n",
              "    </div>\n",
              "  </div>\n",
              "  "
            ]
          },
          "metadata": {},
          "execution_count": 6
        }
      ]
    },
    {
      "cell_type": "markdown",
      "source": [
        "4. Tampilkan statistik deskriptif (khusus atribut numerik)"
      ],
      "metadata": {
        "id": "ltdTCDbyV19k"
      }
    },
    {
      "cell_type": "code",
      "source": [
        "print(df.describe())"
      ],
      "metadata": {
        "colab": {
          "base_uri": "https://localhost:8080/"
        },
        "id": "ezEE4v7LGGaj",
        "outputId": "c9cab1f5-8444-491c-8b4a-d1888a96c02d"
      },
      "execution_count": null,
      "outputs": [
        {
          "output_type": "stream",
          "name": "stdout",
          "text": [
            "           KodeApt   Wilayah  St_Milik  Jum_Kamar\n",
            "count     9.000000  9.000000  9.000000   9.000000\n",
            "mean   1223.777778  1.555556  0.666667   2.666667\n",
            "std    2863.130445  1.333333  0.500000   0.707107\n",
            "min     104.000000  0.000000  0.000000   1.000000\n",
            "25%     201.000000  0.000000  0.000000   3.000000\n",
            "50%     207.000000  2.000000  1.000000   3.000000\n",
            "75%     215.000000  3.000000  1.000000   3.000000\n",
            "max    8837.000000  3.000000  1.000000   3.000000\n"
          ]
        }
      ]
    },
    {
      "cell_type": "markdown",
      "source": [
        "5. Hitung data unik pada kolom/atribut Wilayah"
      ],
      "metadata": {
        "id": "6ODCJTS0V85F"
      }
    },
    {
      "cell_type": "code",
      "source": [
        "#mengexplore lebih dalamn untuk katribut wilayah (tipe kategori)\n",
        "df.Wilayah.unique()\n",
        "valueCount = df.Wilayah.value_counts()\n",
        "valueCount"
      ],
      "metadata": {
        "colab": {
          "base_uri": "https://localhost:8080/"
        },
        "id": "AKH2GRArGOCu",
        "outputId": "7a3e10b6-8d9b-452e-d024-e454a2ad36e7"
      },
      "execution_count": null,
      "outputs": [
        {
          "output_type": "execute_result",
          "data": {
            "text/plain": [
              "0    3\n",
              "3    3\n",
              "2    2\n",
              "1    1\n",
              "Name: Wilayah, dtype: int64"
            ]
          },
          "metadata": {},
          "execution_count": 18
        }
      ]
    },
    {
      "cell_type": "markdown",
      "source": [
        "6. Tampilkan diagram batang kolom/atribut Wilayah"
      ],
      "metadata": {
        "id": "PO1C-W6_WBDN"
      }
    },
    {
      "cell_type": "code",
      "source": [
        "#visualisasi dalam diagram batang kolom wilayah\n",
        "import seaborn as sns\n",
        "sns.set(style=\"darkgrid\")\n",
        "ax = sns.countplot(x=\"Wilayah\", data=df)"
      ],
      "metadata": {
        "colab": {
          "base_uri": "https://localhost:8080/",
          "height": 285
        },
        "id": "s-ZHYjZVHQRD",
        "outputId": "bb318a9a-9e4c-4b9e-d9da-c2a23cf53aaa"
      },
      "execution_count": null,
      "outputs": [
        {
          "output_type": "display_data",
          "data": {
            "text/plain": [
              "<Figure size 432x288 with 1 Axes>"
            ],
            "image/png": "[encoded data removed]"
          },
          "metadata": {}
        }
      ]
    },
    {
      "cell_type": "code",
      "source": [
        "#Bentuk lain Plot Kolom Wilayah (Ada Text Jumlah)\n",
        "import matplotlib.pyplot as plt #library for plot\n",
        "plt.figure(figsize=(5,5))\n",
        "\n",
        "#total = float(Len(df[\"Label\"]))\n",
        "ax = sns.countplot(x=\"Wilayah\", data=df)\n",
        "for p in ax.patches:\n",
        "  height =  p.get_height()\n",
        "  ax.text(p.get_x()+p.get_width()/2.,height,\n",
        "  '{:1.0f}'.format((height)),ha=\"center\")\n",
        "plt.show()"
      ],
      "metadata": {
        "colab": {
          "base_uri": "https://localhost:8080/",
          "height": 339
        },
        "id": "qKu-bjLJHs7-",
        "outputId": "b27ee157-30b8-4685-efee-b1f79b3c5862"
      },
      "execution_count": null,
      "outputs": [
        {
          "output_type": "display_data",
          "data": {
            "text/plain": [
              "<Figure size 360x360 with 1 Axes>"
            ],
            "image/png": "[encoded data removed]"
          },
          "metadata": {}
        }
      ]
    },
    {
      "cell_type": "markdown",
      "source": [
        "7. Tampilkan Historgram Untuk semua atribut numerik"
      ],
      "metadata": {
        "id": "m3-xF9VVWJVV"
      }
    },
    {
      "cell_type": "code",
      "source": [
        "#menampilkan histogram untuk semua atribut numerik\n",
        "import matplotlib\n",
        "import matplotlib.pyplot as plt\n",
        "numerik_df = df.select_dtypes(include=['float64'])\n",
        "numerik_index = numerik_df.columns\n",
        "numerik_index\n",
        "df.hist(column=numerik_index, figsize=(10,20), layout=(5,1))\n",
        "plt.show()"
      ],
      "metadata": {
        "colab": {
          "base_uri": "https://localhost:8080/",
          "height": 470
        },
        "id": "27lX-DikJGJZ",
        "outputId": "ae217f17-8326-4bb1-899e-759658832d8d"
      },
      "execution_count": null,
      "outputs": [
        {
          "output_type": "display_data",
          "data": {
            "text/plain": [
              "<Figure size 720x1440 with 5 Axes>"
            ],
            "image/png": "[encoded data removed]"
          },
          "metadata": {}
        }
      ]
    },
    {
      "cell_type": "code",
      "source": [
        "#menampilkan histogram untuk atribut numerik tertentu\n",
        "import matplotlib\n",
        "import matplotlib.pyplot as plt\n",
        "numerik_df = ['Jum_Kamar']\n",
        "numerik_index = numerik_df\n",
        "numerik_index\n",
        "df.hist(column=numerik_index, figsize=(10,20), layout=(5,1))\n",
        "plt.show()"
      ],
      "metadata": {
        "colab": {
          "base_uri": "https://localhost:8080/",
          "height": 242
        },
        "id": "iHz0cJ37KKTm",
        "outputId": "39189d0a-6158-4e37-a4db-8f380b4bb8e9"
      },
      "execution_count": null,
      "outputs": [
        {
          "output_type": "display_data",
          "data": {
            "text/plain": [
              "<Figure size 720x1440 with 5 Axes>"
            ],
            "image/png": "[encoded data removed]"
          },
          "metadata": {}
        }
      ]
    },
    {
      "cell_type": "code",
      "source": [
        "#Menampilkan histogram untuk atribut numerik tertentu\n",
        "import matplotlib\n",
        "import matplotlib.pyplot as plt\n",
        "numerik_df = ['KodeApt']\n",
        "numerik_index = numerik_df\n",
        "numerik_index\n",
        "df.hist(column=numerik_index, figsize=(10,20), layout=(5,1))\n",
        "plt.show()"
      ],
      "metadata": {
        "colab": {
          "base_uri": "https://localhost:8080/",
          "height": 242
        },
        "id": "QDW1Q0E8N-Ff",
        "outputId": "d72434ed-2a19-40c2-f975-b847655696ce"
      },
      "execution_count": null,
      "outputs": [
        {
          "output_type": "display_data",
          "data": {
            "text/plain": [
              "<Figure size 720x1440 with 5 Axes>"
            ],
            "image/png": "[encoded data removed]"
          },
          "metadata": {}
        }
      ]
    },
    {
      "cell_type": "code",
      "source": [
        "#boxplot with matplotlib, melihat outlier yang dapat terjadi misalnya karena kesalahan ketik\n",
        "plt.boxplot(df.KodeApt)\n",
        "plt.plot()"
      ],
      "metadata": {
        "colab": {
          "base_uri": "https://localhost:8080/",
          "height": 286
        },
        "id": "-Hs1IoXUOtKn",
        "outputId": "873eadec-5038-471a-9c8a-6f9d462f3d83"
      },
      "execution_count": null,
      "outputs": [
        {
          "output_type": "execute_result",
          "data": {
            "text/plain": [
              "[]"
            ]
          },
          "metadata": {},
          "execution_count": 23
        },
        {
          "output_type": "display_data",
          "data": {
            "text/plain": [
              "<Figure size 432x288 with 1 Axes>"
            ],
            "image/png": "[encoded data removed]"
          },
          "metadata": {}
        }
      ]
    },
    {
      "cell_type": "markdown",
      "source": [
        "**TUGAS 4.5** "
      ],
      "metadata": {
        "id": "qVvLgGPNWP3t"
      }
    },
    {
      "cell_type": "markdown",
      "source": [
        "1. Carilah nilai rata-rata atribut independen yang bertipe numerik"
      ],
      "metadata": {
        "id": "cS0-BLrFWifF"
      }
    },
    {
      "cell_type": "code",
      "source": [
        "# Mencari Nilai Rata-Rata Atribut Independen Yang Bertipe Numerik\n",
        "import pandas as pd\n",
        "\n",
        "uri = '/content/drive/MyDrive/Machine Learning/Apartemen_OKE.csv'\n",
        "df = pd.read_csv(uri)\n",
        "\n",
        "mean_kodeapt = 'KodeApt'\n",
        "mean_jumkamar = 'Jum_Kamar'\n",
        "\n",
        "rata_rata_kodeapt = df[mean_kodeapt].mean()\n",
        "rata_rata_jumkamar = df[mean_jumkamar].mean()\n",
        "\n",
        "print(\"Nilai rata-rata dari kolom\", mean_kodeapt, \"adalah\", rata_rata_kodeapt)\n",
        "print(\"Nilai rata-rata dari kolom\", mean_jumkamar, \"adalah\", rata_rata_jumkamar)"
      ],
      "metadata": {
        "colab": {
          "base_uri": "https://localhost:8080/"
        },
        "id": "d5lc83ZVPMDa",
        "outputId": "b1a964dc-5f47-4a97-e22f-e1d6a6110fdf"
      },
      "execution_count": null,
      "outputs": [
        {
          "output_type": "stream",
          "name": "stdout",
          "text": [
            "Nilai rata-rata dari kolom KodeApt adalah 1223.7777777777778\n",
            "Nilai rata-rata dari kolom Jum_Kamar adalah 2.6666666666666665\n"
          ]
        }
      ]
    },
    {
      "cell_type": "markdown",
      "source": [
        "2. Buatlah Pie Diagram"
      ],
      "metadata": {
        "id": "wqAZq5ViWoFU"
      }
    },
    {
      "cell_type": "code",
      "source": [
        "# Buatlah Pie Diagram\n",
        "import pandas as pd\n",
        "import matplotlib.pyplot as plt\n",
        "\n",
        "uri = '/content/drive/MyDrive/Machine Learning/Apartemen_OKE.csv'\n",
        "df = pd.read_csv(uri)\n",
        "\n",
        "plt.pie(df['Wilayah'], labels=df)\n",
        "\n",
        "plt.show()"
      ],
      "metadata": {
        "colab": {
          "base_uri": "https://localhost:8080/",
          "height": 248
        },
        "id": "Ho9IjEGIPinM",
        "outputId": "0346fe6b-72d5-4d07-8273-acad8e4c0257"
      },
      "execution_count": null,
      "outputs": [
        {
          "output_type": "display_data",
          "data": {
            "text/plain": [
              "<Figure size 432x288 with 1 Axes>"
            ],
            "image/png": "[encoded data removed]"
          },
          "metadata": {}
        }
      ]
    }
  ]
}